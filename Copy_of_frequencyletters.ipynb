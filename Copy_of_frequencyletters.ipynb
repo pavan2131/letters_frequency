{
  "nbformat": 4,
  "nbformat_minor": 0,
  "metadata": {
    "colab": {
      "name": "Copy of frequencyletters.ipynb",
      "provenance": [],
      "authorship_tag": "ABX9TyPGNBP8KX3evjkmqG+Yn4/4",
      "include_colab_link": true
    },
    "kernelspec": {
      "name": "python3",
      "display_name": "Python 3"
    }
  },
  "cells": [
    {
      "cell_type": "markdown",
      "metadata": {
        "id": "view-in-github",
        "colab_type": "text"
      },
      "source": [
        "<a href=\"https://colab.research.google.com/github/pavan2131/letters_frequency/blob/master/Copy_of_frequencyletters.ipynb\" target=\"_parent\"><img src=\"https://colab.research.google.com/assets/colab-badge.svg\" alt=\"Open In Colab\"/></a>"
      ]
    },
    {
      "cell_type": "code",
      "metadata": {
        "id": "jBa4MVtgkarw",
        "colab_type": "code",
        "colab": {
          "base_uri": "https://localhost:8080/",
          "height": 119
        },
        "outputId": "727f7f0d-c0bd-4972-fb89-4b0f114fe509"
      },
      "source": [
        "import operator\n",
        "def char_frequency(str1):\n",
        "    dict = {}\n",
        "    for n in str1:\n",
        "        keys = dict.keys()\n",
        "        if n in keys:\n",
        "            dict[n] += 1\n",
        "        else:\n",
        "            dict[n] = 1\n",
        "    return dict\n",
        "d = char_frequency(input())\n",
        "\n",
        "\n",
        "sorted_d = dict(sorted(d.items(), key=operator.itemgetter(1),reverse=True))\n",
        "print('Dictionary in descending order by value : ',sorted_d)\n",
        "for i in sorted_d: \n",
        "    print(i,\"=\", sorted_d[i]) "
      ],
      "execution_count": null,
      "outputs": [
        {
          "output_type": "stream",
          "text": [
            "mississippi\n",
            "Dictionary in descending order by value :  {'i': 4, 's': 4, 'p': 2, 'm': 1}\n",
            "i = 4\n",
            "s = 4\n",
            "p = 2\n",
            "m = 1\n"
          ],
          "name": "stdout"
        }
      ]
    }
  ]
}